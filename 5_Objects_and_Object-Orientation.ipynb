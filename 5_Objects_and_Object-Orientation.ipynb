{
 "cells": [
  {
   "cell_type": "markdown",
   "metadata": {},
   "source": [
    "# 对象"
   ]
  },
  {
   "cell_type": "markdown",
   "metadata": {},
   "source": [
    "## 模块"
   ]
  },
  {
   "cell_type": "code",
   "execution_count": 5,
   "metadata": {
    "collapsed": false
   },
   "outputs": [],
   "source": [
    "import sys\n",
    "from sys import stdin"
   ]
  },
  {
   "cell_type": "markdown",
   "metadata": {},
   "source": [
    "## 类\n",
    "- `__init__` 方法是可选的,但是一旦你定义了,就必须记得显示调用父类的\n",
    "- `__getitem__`\n",
    "- `__setitem__`\n",
    "- `__repr__`\n",
    "- `__cmp__`\n",
    "- `__len__`\n",
    "- `__delitem__`"
   ]
  },
  {
   "cell_type": "markdown",
   "metadata": {},
   "source": [
    "- 类方法,或属性的名字以两个下划线开始 (但不是结 束),它是私有的;其它所有的都是公有的\n",
    "- 可以通过 _MP3FileInfo__parse 名字来使用 MP3FileInfo 类的 __parse 方法"
   ]
  },
  {
   "cell_type": "code",
   "execution_count": 7,
   "metadata": {
    "collapsed": true
   },
   "outputs": [],
   "source": [
    "class B:\n",
    "    def __init__(self):\n",
    "        pass\n",
    "    \n",
    "class C:\n",
    "    pass\n",
    "\n",
    "class A(B, C):\n",
    "    def __init__(self, filename = None):\n",
    "        B.__init__(self)\n",
    "        self[\"name\"] = filename\n",
    "        self.name = filename"
   ]
  },
  {
   "cell_type": "code",
   "execution_count": 8,
   "metadata": {
    "collapsed": false
   },
   "outputs": [
    {
     "name": "stdout",
     "output_type": "stream",
     "text": [
      "0\n",
      "1\n"
     ]
    }
   ],
   "source": [
    "class counter:\n",
    "    count = 0\n",
    "    def __init__(self):\n",
    "        self.__class__.count += 1\n",
    "print counter.count\n",
    "c = counter()\n",
    "print c.count"
   ]
  }
 ],
 "metadata": {
  "kernelspec": {
   "display_name": "Python 2",
   "language": "python",
   "name": "python2"
  },
  "language_info": {
   "codemirror_mode": {
    "name": "ipython",
    "version": 2
   },
   "file_extension": ".py",
   "mimetype": "text/x-python",
   "name": "python",
   "nbconvert_exporter": "python",
   "pygments_lexer": "ipython2",
   "version": "2.7.11"
  }
 },
 "nbformat": 4,
 "nbformat_minor": 0
}
